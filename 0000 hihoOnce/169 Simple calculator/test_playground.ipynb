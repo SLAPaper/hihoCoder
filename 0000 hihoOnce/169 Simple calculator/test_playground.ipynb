{
 "cells": [
  {
   "cell_type": "code",
   "execution_count": 4,
   "metadata": {},
   "outputs": [],
   "source": [
    "import re"
   ]
  },
  {
   "cell_type": "code",
   "execution_count": 22,
   "metadata": {},
   "outputs": [],
   "source": [
    "formula = \"100     *(2+  12)-(20   /3)*2\""
   ]
  },
  {
   "cell_type": "code",
   "execution_count": 23,
   "metadata": {},
   "outputs": [],
   "source": [
    "ops_re = \"([-+*/()])\"\n",
    "tokens = [t for t in (x.strip() for x in re.split(ops_re, formula)) if len(t) > 0]"
   ]
  },
  {
   "cell_type": "code",
   "execution_count": 24,
   "metadata": {},
   "outputs": [
    {
     "data": {
      "text/plain": [
       "['100', '*', '(', '2', '+', '12', ')', '-', '(', '20', '/', '3', ')', '*', '2']"
      ]
     },
     "execution_count": 24,
     "metadata": {},
     "output_type": "execute_result"
    }
   ],
   "source": [
    "tokens"
   ]
  },
  {
   "cell_type": "code",
   "execution_count": 27,
   "metadata": {},
   "outputs": [
    {
     "data": {
      "text/plain": [
       "-3"
      ]
     },
     "execution_count": 27,
     "metadata": {},
     "output_type": "execute_result"
    }
   ],
   "source": [
    "5 // -2"
   ]
  },
  {
   "cell_type": "code",
   "execution_count": 32,
   "metadata": {
    "scrolled": true
   },
   "outputs": [
    {
     "data": {
      "text/plain": [
       "2"
      ]
     },
     "execution_count": 32,
     "metadata": {},
     "output_type": "execute_result"
    }
   ],
   "source": [
    "-5 // -2"
   ]
  },
  {
   "cell_type": "code",
   "execution_count": 29,
   "metadata": {},
   "outputs": [],
   "source": [
    "import math\n",
    "from __future__ import print_function, division, absolute_import, unicode_literals"
   ]
  },
  {
   "cell_type": "code",
   "execution_count": 30,
   "metadata": {},
   "outputs": [
    {
     "data": {
      "text/plain": [
       "-2.0"
      ]
     },
     "execution_count": 30,
     "metadata": {},
     "output_type": "execute_result"
    }
   ],
   "source": [
    "math.ceil(5 / -2)"
   ]
  },
  {
   "cell_type": "code",
   "execution_count": 33,
   "metadata": {},
   "outputs": [
    {
     "data": {
      "text/plain": [
       "3.0"
      ]
     },
     "execution_count": 33,
     "metadata": {},
     "output_type": "execute_result"
    }
   ],
   "source": [
    "math.ceil(-5 / -2)"
   ]
  },
  {
   "cell_type": "code",
   "execution_count": 31,
   "metadata": {},
   "outputs": [
    {
     "data": {
      "text/plain": [
       "-3.0"
      ]
     },
     "execution_count": 31,
     "metadata": {},
     "output_type": "execute_result"
    }
   ],
   "source": [
    "math.floor(5 / -2)"
   ]
  },
  {
   "cell_type": "code",
   "execution_count": 34,
   "metadata": {},
   "outputs": [
    {
     "data": {
      "text/plain": [
       "2.0"
      ]
     },
     "execution_count": 34,
     "metadata": {},
     "output_type": "execute_result"
    }
   ],
   "source": [
    "math.floor(-5 / -2)"
   ]
  },
  {
   "cell_type": "code",
   "execution_count": 36,
   "metadata": {},
   "outputs": [],
   "source": [
    "def add(a, b):\n",
    "    return a + b\n",
    "\n",
    "def minus(a, b):\n",
    "    return a - b\n",
    "\n",
    "def multiply(a, b):\n",
    "    return a * b\n",
    "\n",
    "def divide(a, b):\n",
    "    return int(a / b)\n",
    "\n",
    "op_func = {\n",
    "    '+': add,\n",
    "    '-': minus,\n",
    "    '*': multiply,\n",
    "    '/': divide\n",
    "}\n",
    "\n",
    "op_prior = {\n",
    "    '+': 0,\n",
    "    '-': 0,\n",
    "    '*': 1,\n",
    "    '/': 1\n",
    "}"
   ]
  },
  {
   "cell_type": "code",
   "execution_count": 63,
   "metadata": {},
   "outputs": [],
   "source": [
    "num_stack = []\n",
    "op_stack = []\n",
    "for token in tokens:\n",
    "    try:\n",
    "        number = int(token)\n",
    "        num_stack.append(number)\n",
    "    except ValueError:  # here is operators\n",
    "        if token == '(':\n",
    "            op_stack.append(token)\n",
    "        elif token == ')':\n",
    "            op = op_stack.pop()\n",
    "            while op != '(':\n",
    "                num2 = num_stack.pop()\n",
    "                num1 = num_stack.pop()\n",
    "                num_stack.append(op_func[op](num1, num2))\n",
    "                op = op_stack.pop()\n",
    "        else:\n",
    "            try:\n",
    "                op = op_stack.pop()\n",
    "                if op == '(':\n",
    "                    op_stack.append(op)\n",
    "                else:\n",
    "                    if op_prior[token] > op_prior[op]:\n",
    "                        op_stack.append(op)\n",
    "                    else:\n",
    "                        num2 = num_stack.pop()\n",
    "                        num1 = num_stack.pop()\n",
    "                        num_stack.append(op_func[op](num1, num2))\n",
    "            except IndexError:\n",
    "                pass\n",
    "\n",
    "            op_stack.append(token)\n",
    "\n",
    "while len(op_stack) > 0:\n",
    "    op = op_stack.pop()\n",
    "    num2 = num_stack.pop()\n",
    "    num1 = num_stack.pop()\n",
    "    num_stack.append(op_func[op](num1, num2))\n"
   ]
  },
  {
   "cell_type": "code",
   "execution_count": 64,
   "metadata": {
    "scrolled": true
   },
   "outputs": [
    {
     "data": {
      "text/plain": [
       "[1388]"
      ]
     },
     "execution_count": 64,
     "metadata": {},
     "output_type": "execute_result"
    }
   ],
   "source": [
    "num_stack"
   ]
  },
  {
   "cell_type": "code",
   "execution_count": 65,
   "metadata": {},
   "outputs": [
    {
     "data": {
      "text/plain": [
       "[]"
      ]
     },
     "execution_count": 65,
     "metadata": {},
     "output_type": "execute_result"
    }
   ],
   "source": [
    "op_stack"
   ]
  },
  {
   "cell_type": "code",
   "execution_count": 66,
   "metadata": {},
   "outputs": [],
   "source": [
    "num_stack = []\n",
    "op_stack = []\n",
    "\n",
    "\n",
    "def process(op, num_stack=num_stack, op_func=op_func):  # go with one operator\n",
    "    num2 = num_stack.pop()\n",
    "    num1 = num_stack.pop()\n",
    "    num_stack.append(op_func[op](num1, num2))\n",
    "\n",
    "\n",
    "for token in tokens:\n",
    "    try:\n",
    "        number = int(token)\n",
    "        num_stack.append(number)\n",
    "    except ValueError:  # here is operators\n",
    "        if token == '(':\n",
    "            op_stack.append(token)\n",
    "        elif token == ')':  # calc until the matching left param\n",
    "            op = op_stack.pop()\n",
    "            while op != '(':\n",
    "                process(op)\n",
    "                op = op_stack.pop()\n",
    "        else:  # normal +, -, * and /\n",
    "            try:\n",
    "                op = op_stack.pop()\n",
    "                if op == '(':  # don't touch left param\n",
    "                    op_stack.append(op)\n",
    "                else:\n",
    "                    if op_prior[token] > op_prior[op]:\n",
    "                        op_stack.append(op)\n",
    "                    else:\n",
    "                        process(op)\n",
    "            except IndexError:\n",
    "                pass\n",
    "\n",
    "            op_stack.append(token)\n",
    "\n",
    "while len(op_stack) > 0:\n",
    "    op = op_stack.pop()\n",
    "    process(op)\n"
   ]
  },
  {
   "cell_type": "code",
   "execution_count": 67,
   "metadata": {
    "scrolled": true
   },
   "outputs": [
    {
     "data": {
      "text/plain": [
       "[1388]"
      ]
     },
     "execution_count": 67,
     "metadata": {},
     "output_type": "execute_result"
    }
   ],
   "source": [
    "num_stack"
   ]
  }
 ],
 "metadata": {
  "kernelspec": {
   "display_name": "Python 2.7.6 (hihoCoder)",
   "language": "python",
   "name": "hiho"
  },
  "language_info": {
   "codemirror_mode": {
    "name": "ipython",
    "version": 2
   },
   "file_extension": ".py",
   "mimetype": "text/x-python",
   "name": "python",
   "nbconvert_exporter": "python",
   "pygments_lexer": "ipython2",
   "version": "2.7.6"
  }
 },
 "nbformat": 4,
 "nbformat_minor": 2
}
